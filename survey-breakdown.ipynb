{
 "cells": [
  {
   "cell_type": "code",
   "execution_count": 1,
   "metadata": {
    "collapsed": true
   },
   "outputs": [],
   "source": [
    "import pandas as pd\n",
    "import numpy as np\n",
    "%matplotlib inline"
   ]
  },
  {
   "cell_type": "code",
   "execution_count": 72,
   "metadata": {
    "collapsed": false
   },
   "outputs": [],
   "source": [
    "non_primed = pd.read_csv(\"survey-non-primed.csv\", encoding=\"ISO-8859-1\")"
   ]
  },
  {
   "cell_type": "code",
   "execution_count": 73,
   "metadata": {
    "collapsed": false
   },
   "outputs": [],
   "source": [
    "non_primed = non_primed.rename(columns={'Please Answer': 'confident', 'Unnamed: 10': 'believe', 'Unnamed: 11': 'see_example', 'Unnamed: 12': 'began_with', 'Unnamed: 13': 'experience', \"Unnamed: 14\":\"future\", \"Think back to a memorable Envision credit. What level of achievement did you pick and HOW did you decide this level of achievement was acceptable?\": \"memorable_credit\", \"How many years of experience do you have in the construction/engineering industry?\": \"years_experience\", \"Please include your name (This is for the PDH certificate. Your responses are kept confidential)\": \"name\"})"
   ]
  },
  {
   "cell_type": "code",
   "execution_count": 71,
   "metadata": {
    "collapsed": false
   },
   "outputs": [
    {
     "data": {
      "text/plain": [
       "26"
      ]
     },
     "execution_count": 71,
     "metadata": {},
     "output_type": "execute_result"
    }
   ],
   "source": [
    "len(non_primed)"
   ]
  },
  {
   "cell_type": "code",
   "execution_count": 62,
   "metadata": {
    "collapsed": true
   },
   "outputs": [],
   "source": [
    "primed = pd.read_csv(\"survey-primed.csv\", encoding=\"ISO-8859-1\")"
   ]
  },
  {
   "cell_type": "markdown",
   "metadata": {},
   "source": [
    "Replacing column names"
   ]
  },
  {
   "cell_type": "code",
   "execution_count": 63,
   "metadata": {
    "collapsed": false
   },
   "outputs": [],
   "source": [
    "primed = primed.rename(columns={'Please Answer': 'confident', 'Unnamed: 10': 'believe', 'Unnamed: 11': 'see_example', 'Unnamed: 12': 'began_with', 'Unnamed: 13': 'experience', \"Unnamed: 14\":\"future\", \"Think back to a memorable Envision credit. What level of achievement did you pick and HOW did you decide this level of achievement was acceptable?\": \"memorable_credit\", \"How many years of experience do you have in the construction/engineering industry?\": \"years_experience\", \"Please include your name (This is for the PDH certificate. Your responses are kept confidential)\": \"name\"})"
   ]
  },
  {
   "cell_type": "markdown",
   "metadata": {},
   "source": [
    "Removing scores with Nan"
   ]
  },
  {
   "cell_type": "code",
   "execution_count": 64,
   "metadata": {
    "collapsed": false
   },
   "outputs": [],
   "source": [
    "primed = primed.dropna(subset = ['name'])"
   ]
  },
  {
   "cell_type": "code",
   "execution_count": 65,
   "metadata": {
    "collapsed": false
   },
   "outputs": [
    {
     "data": {
      "text/html": [
       "<div>\n",
       "<table border=\"1\" class=\"dataframe\">\n",
       "  <thead>\n",
       "    <tr style=\"text-align: right;\">\n",
       "      <th></th>\n",
       "      <th>RespondentID</th>\n",
       "      <th>CollectorID</th>\n",
       "      <th>StartDate</th>\n",
       "      <th>EndDate</th>\n",
       "      <th>IP Address</th>\n",
       "      <th>Email Address</th>\n",
       "      <th>First Name</th>\n",
       "      <th>LastName</th>\n",
       "      <th>Custom Data</th>\n",
       "      <th>confident</th>\n",
       "      <th>believe</th>\n",
       "      <th>see_example</th>\n",
       "      <th>began_with</th>\n",
       "      <th>experience</th>\n",
       "      <th>future</th>\n",
       "      <th>memorable_credit</th>\n",
       "      <th>years_experience</th>\n",
       "      <th>name</th>\n",
       "    </tr>\n",
       "  </thead>\n",
       "  <tbody>\n",
       "    <tr>\n",
       "      <th>0</th>\n",
       "      <td>4137815389</td>\n",
       "      <td>71076472</td>\n",
       "      <td>08/13/2015 16:41:32</td>\n",
       "      <td>08/13/2015 16:47:30</td>\n",
       "      <td>74.203.124.230</td>\n",
       "      <td>NaN</td>\n",
       "      <td>NaN</td>\n",
       "      <td>NaN</td>\n",
       "      <td>NaN</td>\n",
       "      <td>3</td>\n",
       "      <td>3</td>\n",
       "      <td>4</td>\n",
       "      <td>4</td>\n",
       "      <td>3</td>\n",
       "      <td>3</td>\n",
       "      <td>The re-development of the brownfield was proba...</td>\n",
       "      <td>14 years</td>\n",
       "      <td>Robert M Reddick Jr</td>\n",
       "    </tr>\n",
       "    <tr>\n",
       "      <th>1</th>\n",
       "      <td>4137806261</td>\n",
       "      <td>71076472</td>\n",
       "      <td>08/13/2015 16:36:51</td>\n",
       "      <td>08/13/2015 16:38:37</td>\n",
       "      <td>74.203.124.230</td>\n",
       "      <td>NaN</td>\n",
       "      <td>NaN</td>\n",
       "      <td>NaN</td>\n",
       "      <td>NaN</td>\n",
       "      <td>Strongly Disagree (1)</td>\n",
       "      <td>Strongly Disagree (1)</td>\n",
       "      <td>3</td>\n",
       "      <td>3</td>\n",
       "      <td>3</td>\n",
       "      <td>3</td>\n",
       "      <td>pick the one that is most attainable and affor...</td>\n",
       "      <td>3 years</td>\n",
       "      <td>Nick Lowe</td>\n",
       "    </tr>\n",
       "    <tr>\n",
       "      <th>2</th>\n",
       "      <td>4137802367</td>\n",
       "      <td>71076472</td>\n",
       "      <td>08/13/2015 16:35:05</td>\n",
       "      <td>08/13/2015 16:38:39</td>\n",
       "      <td>74.203.124.230</td>\n",
       "      <td>NaN</td>\n",
       "      <td>NaN</td>\n",
       "      <td>NaN</td>\n",
       "      <td>NaN</td>\n",
       "      <td>3</td>\n",
       "      <td>3</td>\n",
       "      <td>4</td>\n",
       "      <td>Strongly Agree (5)</td>\n",
       "      <td>4</td>\n",
       "      <td>3</td>\n",
       "      <td>I think looking back at the enhancing communit...</td>\n",
       "      <td>16</td>\n",
       "      <td>Tracey McCormick</td>\n",
       "    </tr>\n",
       "    <tr>\n",
       "      <th>3</th>\n",
       "      <td>4135833846</td>\n",
       "      <td>71076472</td>\n",
       "      <td>08/12/2015 16:57:30</td>\n",
       "      <td>08/12/2015 16:59:08</td>\n",
       "      <td>66.83.10.189</td>\n",
       "      <td>NaN</td>\n",
       "      <td>NaN</td>\n",
       "      <td>NaN</td>\n",
       "      <td>NaN</td>\n",
       "      <td>4</td>\n",
       "      <td>4</td>\n",
       "      <td>4</td>\n",
       "      <td>4</td>\n",
       "      <td>4</td>\n",
       "      <td>4</td>\n",
       "      <td>Enhancement - working with the community and m...</td>\n",
       "      <td>9 years</td>\n",
       "      <td>Nick Bushon</td>\n",
       "    </tr>\n",
       "    <tr>\n",
       "      <th>4</th>\n",
       "      <td>4135833379</td>\n",
       "      <td>71076472</td>\n",
       "      <td>08/12/2015 16:57:10</td>\n",
       "      <td>08/12/2015 16:59:01</td>\n",
       "      <td>66.83.10.189</td>\n",
       "      <td>NaN</td>\n",
       "      <td>NaN</td>\n",
       "      <td>NaN</td>\n",
       "      <td>NaN</td>\n",
       "      <td>3</td>\n",
       "      <td>3</td>\n",
       "      <td>Strongly Agree (5)</td>\n",
       "      <td>4</td>\n",
       "      <td>Strongly Agree (5)</td>\n",
       "      <td>3</td>\n",
       "      <td>Restorative, using my experience</td>\n",
       "      <td>9 years</td>\n",
       "      <td>Kate Liu</td>\n",
       "    </tr>\n",
       "  </tbody>\n",
       "</table>\n",
       "</div>"
      ],
      "text/plain": [
       "   RespondentID  CollectorID            StartDate              EndDate  \\\n",
       "0    4137815389     71076472  08/13/2015 16:41:32  08/13/2015 16:47:30   \n",
       "1    4137806261     71076472  08/13/2015 16:36:51  08/13/2015 16:38:37   \n",
       "2    4137802367     71076472  08/13/2015 16:35:05  08/13/2015 16:38:39   \n",
       "3    4135833846     71076472  08/12/2015 16:57:30  08/12/2015 16:59:08   \n",
       "4    4135833379     71076472  08/12/2015 16:57:10  08/12/2015 16:59:01   \n",
       "\n",
       "       IP Address  Email Address  First Name  LastName  Custom Data  \\\n",
       "0  74.203.124.230            NaN         NaN       NaN          NaN   \n",
       "1  74.203.124.230            NaN         NaN       NaN          NaN   \n",
       "2  74.203.124.230            NaN         NaN       NaN          NaN   \n",
       "3    66.83.10.189            NaN         NaN       NaN          NaN   \n",
       "4    66.83.10.189            NaN         NaN       NaN          NaN   \n",
       "\n",
       "               confident                believe         see_example  \\\n",
       "0                      3                      3                   4   \n",
       "1  Strongly Disagree (1)  Strongly Disagree (1)                   3   \n",
       "2                      3                      3                   4   \n",
       "3                      4                      4                   4   \n",
       "4                      3                      3  Strongly Agree (5)   \n",
       "\n",
       "           began_with          experience future  \\\n",
       "0                   4                   3      3   \n",
       "1                   3                   3      3   \n",
       "2  Strongly Agree (5)                   4      3   \n",
       "3                   4                   4      4   \n",
       "4                   4  Strongly Agree (5)      3   \n",
       "\n",
       "                                    memorable_credit years_experience  \\\n",
       "0  The re-development of the brownfield was proba...         14 years   \n",
       "1  pick the one that is most attainable and affor...          3 years   \n",
       "2  I think looking back at the enhancing communit...               16   \n",
       "3  Enhancement - working with the community and m...         9 years    \n",
       "4                   Restorative, using my experience          9 years   \n",
       "\n",
       "                  name  \n",
       "0  Robert M Reddick Jr  \n",
       "1            Nick Lowe  \n",
       "2     Tracey McCormick  \n",
       "3         Nick Bushon   \n",
       "4             Kate Liu  "
      ]
     },
     "execution_count": 65,
     "metadata": {},
     "output_type": "execute_result"
    }
   ],
   "source": [
    "primed.head()"
   ]
  },
  {
   "cell_type": "code",
   "execution_count": 66,
   "metadata": {
    "collapsed": false
   },
   "outputs": [],
   "source": [
    "for i in primed.columns[9:15]:\n",
    "    primed[i] = primed[i].map({'Strongly Disagree (1)': 1, '2': 2, '3': 3, '4': 4, 'Strongly Agree (5)': 5})"
   ]
  },
  {
   "cell_type": "code",
   "execution_count": 67,
   "metadata": {
    "collapsed": false
   },
   "outputs": [],
   "source": [
    "primed['years_experience'] = primed['years_experience'].map(lambda x: x.split()[0]) "
   ]
  },
  {
   "cell_type": "code",
   "execution_count": 68,
   "metadata": {
    "collapsed": false
   },
   "outputs": [
    {
     "data": {
      "text/html": [
       "<div>\n",
       "<table border=\"1\" class=\"dataframe\">\n",
       "  <thead>\n",
       "    <tr style=\"text-align: right;\">\n",
       "      <th></th>\n",
       "      <th>RespondentID</th>\n",
       "      <th>CollectorID</th>\n",
       "      <th>StartDate</th>\n",
       "      <th>EndDate</th>\n",
       "      <th>IP Address</th>\n",
       "      <th>Email Address</th>\n",
       "      <th>First Name</th>\n",
       "      <th>LastName</th>\n",
       "      <th>Custom Data</th>\n",
       "      <th>confident</th>\n",
       "      <th>believe</th>\n",
       "      <th>see_example</th>\n",
       "      <th>began_with</th>\n",
       "      <th>experience</th>\n",
       "      <th>future</th>\n",
       "      <th>memorable_credit</th>\n",
       "      <th>years_experience</th>\n",
       "      <th>name</th>\n",
       "    </tr>\n",
       "  </thead>\n",
       "  <tbody>\n",
       "    <tr>\n",
       "      <th>0</th>\n",
       "      <td>4137815389</td>\n",
       "      <td>71076472</td>\n",
       "      <td>08/13/2015 16:41:32</td>\n",
       "      <td>08/13/2015 16:47:30</td>\n",
       "      <td>74.203.124.230</td>\n",
       "      <td>NaN</td>\n",
       "      <td>NaN</td>\n",
       "      <td>NaN</td>\n",
       "      <td>NaN</td>\n",
       "      <td>3</td>\n",
       "      <td>3</td>\n",
       "      <td>4</td>\n",
       "      <td>4</td>\n",
       "      <td>3</td>\n",
       "      <td>3</td>\n",
       "      <td>The re-development of the brownfield was proba...</td>\n",
       "      <td>14</td>\n",
       "      <td>Robert M Reddick Jr</td>\n",
       "    </tr>\n",
       "    <tr>\n",
       "      <th>1</th>\n",
       "      <td>4137806261</td>\n",
       "      <td>71076472</td>\n",
       "      <td>08/13/2015 16:36:51</td>\n",
       "      <td>08/13/2015 16:38:37</td>\n",
       "      <td>74.203.124.230</td>\n",
       "      <td>NaN</td>\n",
       "      <td>NaN</td>\n",
       "      <td>NaN</td>\n",
       "      <td>NaN</td>\n",
       "      <td>1</td>\n",
       "      <td>1</td>\n",
       "      <td>3</td>\n",
       "      <td>3</td>\n",
       "      <td>3</td>\n",
       "      <td>3</td>\n",
       "      <td>pick the one that is most attainable and affor...</td>\n",
       "      <td>3</td>\n",
       "      <td>Nick Lowe</td>\n",
       "    </tr>\n",
       "    <tr>\n",
       "      <th>2</th>\n",
       "      <td>4137802367</td>\n",
       "      <td>71076472</td>\n",
       "      <td>08/13/2015 16:35:05</td>\n",
       "      <td>08/13/2015 16:38:39</td>\n",
       "      <td>74.203.124.230</td>\n",
       "      <td>NaN</td>\n",
       "      <td>NaN</td>\n",
       "      <td>NaN</td>\n",
       "      <td>NaN</td>\n",
       "      <td>3</td>\n",
       "      <td>3</td>\n",
       "      <td>4</td>\n",
       "      <td>5</td>\n",
       "      <td>4</td>\n",
       "      <td>3</td>\n",
       "      <td>I think looking back at the enhancing communit...</td>\n",
       "      <td>16</td>\n",
       "      <td>Tracey McCormick</td>\n",
       "    </tr>\n",
       "    <tr>\n",
       "      <th>3</th>\n",
       "      <td>4135833846</td>\n",
       "      <td>71076472</td>\n",
       "      <td>08/12/2015 16:57:30</td>\n",
       "      <td>08/12/2015 16:59:08</td>\n",
       "      <td>66.83.10.189</td>\n",
       "      <td>NaN</td>\n",
       "      <td>NaN</td>\n",
       "      <td>NaN</td>\n",
       "      <td>NaN</td>\n",
       "      <td>4</td>\n",
       "      <td>4</td>\n",
       "      <td>4</td>\n",
       "      <td>4</td>\n",
       "      <td>4</td>\n",
       "      <td>4</td>\n",
       "      <td>Enhancement - working with the community and m...</td>\n",
       "      <td>9</td>\n",
       "      <td>Nick Bushon</td>\n",
       "    </tr>\n",
       "    <tr>\n",
       "      <th>4</th>\n",
       "      <td>4135833379</td>\n",
       "      <td>71076472</td>\n",
       "      <td>08/12/2015 16:57:10</td>\n",
       "      <td>08/12/2015 16:59:01</td>\n",
       "      <td>66.83.10.189</td>\n",
       "      <td>NaN</td>\n",
       "      <td>NaN</td>\n",
       "      <td>NaN</td>\n",
       "      <td>NaN</td>\n",
       "      <td>3</td>\n",
       "      <td>3</td>\n",
       "      <td>5</td>\n",
       "      <td>4</td>\n",
       "      <td>5</td>\n",
       "      <td>3</td>\n",
       "      <td>Restorative, using my experience</td>\n",
       "      <td>9</td>\n",
       "      <td>Kate Liu</td>\n",
       "    </tr>\n",
       "  </tbody>\n",
       "</table>\n",
       "</div>"
      ],
      "text/plain": [
       "   RespondentID  CollectorID            StartDate              EndDate  \\\n",
       "0    4137815389     71076472  08/13/2015 16:41:32  08/13/2015 16:47:30   \n",
       "1    4137806261     71076472  08/13/2015 16:36:51  08/13/2015 16:38:37   \n",
       "2    4137802367     71076472  08/13/2015 16:35:05  08/13/2015 16:38:39   \n",
       "3    4135833846     71076472  08/12/2015 16:57:30  08/12/2015 16:59:08   \n",
       "4    4135833379     71076472  08/12/2015 16:57:10  08/12/2015 16:59:01   \n",
       "\n",
       "       IP Address  Email Address  First Name  LastName  Custom Data  \\\n",
       "0  74.203.124.230            NaN         NaN       NaN          NaN   \n",
       "1  74.203.124.230            NaN         NaN       NaN          NaN   \n",
       "2  74.203.124.230            NaN         NaN       NaN          NaN   \n",
       "3    66.83.10.189            NaN         NaN       NaN          NaN   \n",
       "4    66.83.10.189            NaN         NaN       NaN          NaN   \n",
       "\n",
       "   confident  believe  see_example  began_with  experience  future  \\\n",
       "0          3        3            4           4           3       3   \n",
       "1          1        1            3           3           3       3   \n",
       "2          3        3            4           5           4       3   \n",
       "3          4        4            4           4           4       4   \n",
       "4          3        3            5           4           5       3   \n",
       "\n",
       "                                    memorable_credit years_experience  \\\n",
       "0  The re-development of the brownfield was proba...               14   \n",
       "1  pick the one that is most attainable and affor...                3   \n",
       "2  I think looking back at the enhancing communit...               16   \n",
       "3  Enhancement - working with the community and m...                9   \n",
       "4                   Restorative, using my experience                9   \n",
       "\n",
       "                  name  \n",
       "0  Robert M Reddick Jr  \n",
       "1            Nick Lowe  \n",
       "2     Tracey McCormick  \n",
       "3         Nick Bushon   \n",
       "4             Kate Liu  "
      ]
     },
     "execution_count": 68,
     "metadata": {},
     "output_type": "execute_result"
    }
   ],
   "source": [
    "primed.head()"
   ]
  },
  {
   "cell_type": "markdown",
   "metadata": {},
   "source": [
    "Non Pirmed"
   ]
  },
  {
   "cell_type": "code",
   "execution_count": 74,
   "metadata": {
    "collapsed": true
   },
   "outputs": [],
   "source": [
    "for i in non_primed.columns[9:15]:\n",
    "    non_primed[i] = non_primed[i].map({'Strongly Disagree (1)': 1, '2': 2, '3': 3, '4': 4, 'Strongly Agree (5)': 5})"
   ]
  },
  {
   "cell_type": "code",
   "execution_count": 84,
   "metadata": {
    "collapsed": false
   },
   "outputs": [
    {
     "data": {
      "text/plain": [
       "0                          20\n",
       "1                           2\n",
       "2                           1\n",
       "3                         +20\n",
       "4                           1\n",
       "5                          30\n",
       "6                          17\n",
       "7                          12\n",
       "8                         NaN\n",
       "9                          10\n",
       "10                         20\n",
       "11                         16\n",
       "12                         10\n",
       "13                   12 years\n",
       "14                     1 year\n",
       "15    1.5 years of experience\n",
       "16                          8\n",
       "17                          7\n",
       "18                         13\n",
       "19                          1\n",
       "20                         25\n",
       "21                          8\n",
       "22                          5\n",
       "23                          7\n",
       "24                         20\n",
       "25                         10\n",
       "Name: years_experience, dtype: object"
      ]
     },
     "execution_count": 84,
     "metadata": {},
     "output_type": "execute_result"
    }
   ],
   "source": [
    "non_primed.years_experience"
   ]
  },
  {
   "cell_type": "code",
   "execution_count": 87,
   "metadata": {
    "collapsed": false
   },
   "outputs": [],
   "source": [
    "non_primed.ix[3, 'years_experience']=20\n",
    "non_primed.ix[13, 'years_experience']=12\n",
    "non_primed.ix[14, 'years_experience']=1\n",
    "non_primed.ix[15, 'years_experience']=2"
   ]
  },
  {
   "cell_type": "code",
   "execution_count": 88,
   "metadata": {
    "collapsed": false
   },
   "outputs": [
    {
     "data": {
      "text/plain": [
       "0      20\n",
       "1       2\n",
       "2       1\n",
       "3      20\n",
       "4       1\n",
       "5      30\n",
       "6      17\n",
       "7      12\n",
       "8     NaN\n",
       "9      10\n",
       "10     20\n",
       "11     16\n",
       "12     10\n",
       "13     12\n",
       "14      1\n",
       "15      2\n",
       "16      8\n",
       "17      7\n",
       "18     13\n",
       "19      1\n",
       "20     25\n",
       "21      8\n",
       "22      5\n",
       "23      7\n",
       "24     20\n",
       "25     10\n",
       "Name: years_experience, dtype: object"
      ]
     },
     "execution_count": 88,
     "metadata": {},
     "output_type": "execute_result"
    }
   ],
   "source": [
    "non_primed.years_experience"
   ]
  },
  {
   "cell_type": "code",
   "execution_count": 125,
   "metadata": {
    "collapsed": false
   },
   "outputs": [],
   "source": [
    "#non_primed['years_experience']\n",
    "non_primed.ix[8, 'years_experience']=0"
   ]
  },
  {
   "cell_type": "code",
   "execution_count": 126,
   "metadata": {
    "collapsed": false
   },
   "outputs": [],
   "source": [
    "non_primed['years_experience']= non_primed['years_experience'].map(lambda x: int(x))"
   ]
  },
  {
   "cell_type": "code",
   "execution_count": 127,
   "metadata": {
    "collapsed": false
   },
   "outputs": [],
   "source": [
    "non_primed.to_pickle('survey_non_primed_all.pickle')"
   ]
  },
  {
   "cell_type": "code",
   "execution_count": 128,
   "metadata": {
    "collapsed": false
   },
   "outputs": [],
   "source": [
    "primed = pd.read_pickle(\"survey_primed_all.pickle\")\n",
    "non_pirmed = pd.read_pickle(\"survey_non_primed_all.pickle\")"
   ]
  },
  {
   "cell_type": "markdown",
   "metadata": {},
   "source": [
    "#Mann Whiteney U Tests"
   ]
  },
  {
   "cell_type": "code",
   "execution_count": 95,
   "metadata": {
    "collapsed": true
   },
   "outputs": [],
   "source": [
    "from scipy.stats import mannwhitneyu"
   ]
  },
  {
   "cell_type": "code",
   "execution_count": 96,
   "metadata": {
    "collapsed": false
   },
   "outputs": [
    {
     "data": {
      "text/plain": [
       "Index(['confident', 'believe', 'see_example', 'began_with', 'experience',\n",
       "       'future'],\n",
       "      dtype='object')"
      ]
     },
     "execution_count": 96,
     "metadata": {},
     "output_type": "execute_result"
    }
   ],
   "source": [
    "questions = primed.columns[9:15]\n",
    "questions"
   ]
  },
  {
   "cell_type": "code",
   "execution_count": 98,
   "metadata": {
    "collapsed": false
   },
   "outputs": [
    {
     "name": "stdout",
     "output_type": "stream",
     "text": [
      "confident: MannwhitneyuResult(statistic=338.5, pvalue=0.41178003003172237)\n",
      "believe: MannwhitneyuResult(statistic=347.5, pvalue=0.47723530406925352)\n",
      "see_example: MannwhitneyuResult(statistic=346.5, pvalue=0.46955387473703358)\n",
      "began_with: MannwhitneyuResult(statistic=246.0, pvalue=0.025700388253563949)\n",
      "experience: MannwhitneyuResult(statistic=273.5, pvalue=0.07800743316614106)\n",
      "future: MannwhitneyuResult(statistic=294.0, pvalue=0.12304067216927878)\n"
     ]
    }
   ],
   "source": [
    "for i in questions:\n",
    "    mann = mannwhitneyu(non_primed[i], primed[i])\n",
    "    print(\"{}: {}\".format(i, mann))"
   ]
  },
  {
   "cell_type": "markdown",
   "metadata": {},
   "source": [
    "#Frequency Particpiants Began with Improved and worked their way up to Restorative "
   ]
  },
  {
   "cell_type": "code",
   "execution_count": 143,
   "metadata": {
    "collapsed": false
   },
   "outputs": [
    {
     "data": {
      "text/plain": [
       "<matplotlib.axes._subplots.AxesSubplot at 0x1159075c0>"
      ]
     },
     "execution_count": 143,
     "metadata": {},
     "output_type": "execute_result"
    },
    {
     "data": {
      "image/png": "[encoded data removed]",
      "text/plain": [
       "<matplotlib.figure.Figure at 0x115a67438>"
      ]
     },
     "metadata": {},
     "output_type": "display_data"
    }
   ],
   "source": [
    "primed= pd.read_csv(\"survey_primed_cleaned.csv\")\n",
    "primed['began_with'].plot(kind='hist')"
   ]
  },
  {
   "cell_type": "code",
   "execution_count": 144,
   "metadata": {
    "collapsed": false
   },
   "outputs": [
    {
     "data": {
      "text/plain": [
       "<matplotlib.axes._subplots.AxesSubplot at 0x11583d0f0>"
      ]
     },
     "execution_count": 144,
     "metadata": {},
     "output_type": "execute_result"
    },
    {
     "data": {
      "image/png": "[encoded data removed]",
      "text/plain": [
       "<matplotlib.figure.Figure at 0x1158fb550>"
      ]
     },
     "metadata": {},
     "output_type": "display_data"
    }
   ],
   "source": [
    "non_primed= pd.read_csv(\"survey_non_primed_cleaned.csv\")\n",
    "non_primed['began_with'].plot(kind='hist')"
   ]
  },
  {
   "cell_type": "markdown",
   "metadata": {},
   "source": [
    "#Frequency Particpants Agree a Example Project Would help or did help"
   ]
  },
  {
   "cell_type": "code",
   "execution_count": 145,
   "metadata": {
    "collapsed": false
   },
   "outputs": [
    {
     "data": {
      "text/plain": [
       "<matplotlib.axes._subplots.AxesSubplot at 0x115918390>"
      ]
     },
     "execution_count": 145,
     "metadata": {},
     "output_type": "execute_result"
    },
    {
     "data": {
      "image/png": "[encoded data removed]",
      "text/plain": [
       "<matplotlib.figure.Figure at 0x112589a90>"
      ]
     },
     "metadata": {},
     "output_type": "display_data"
    }
   ],
   "source": [
    "primed['see_example'].plot(kind='hist')"
   ]
  },
  {
   "cell_type": "code",
   "execution_count": 146,
   "metadata": {
    "collapsed": false
   },
   "outputs": [
    {
     "data": {
      "text/plain": [
       "<matplotlib.axes._subplots.AxesSubplot at 0x11249d2e8>"
      ]
     },
     "execution_count": 146,
     "metadata": {},
     "output_type": "execute_result"
    },
    {
     "data": {
      "image/png": "[encoded data removed]",
      "text/plain": [
       "<matplotlib.figure.Figure at 0x1124ed6d8>"
      ]
     },
     "metadata": {},
     "output_type": "display_data"
    }
   ],
   "source": [
    "non_primed['see_example'].plot(kind='hist')"
   ]
  },
  {
   "cell_type": "code",
   "execution_count": null,
   "metadata": {
    "collapsed": true
   },
   "outputs": [],
   "source": []
  },
  {
   "cell_type": "markdown",
   "metadata": {},
   "source": [
    "#Average years of experience by group"
   ]
  },
  {
   "cell_type": "code",
   "execution_count": 120,
   "metadata": {
    "collapsed": false
   },
   "outputs": [
    {
     "data": {
      "text/plain": [
       "9.6666666666666661"
      ]
     },
     "execution_count": 120,
     "metadata": {},
     "output_type": "execute_result"
    }
   ],
   "source": [
    "primed.loc[:,'years_experience'].mean()"
   ]
  },
  {
   "cell_type": "code",
   "execution_count": 129,
   "metadata": {
    "collapsed": false
   },
   "outputs": [
    {
     "data": {
      "text/plain": [
       "10.692307692307692"
      ]
     },
     "execution_count": 129,
     "metadata": {},
     "output_type": "execute_result"
    }
   ],
   "source": [
    "non_primed.loc[:,'years_experience'].mean()"
   ]
  },
  {
   "cell_type": "code",
   "execution_count": null,
   "metadata": {
    "collapsed": true
   },
   "outputs": [],
   "source": []
  }
 ],
 "metadata": {
  "kernelspec": {
   "display_name": "Python 3",
   "language": "python",
   "name": "python3"
  },
  "language_info": {
   "codemirror_mode": {
    "name": "ipython",
    "version": 3
   },
   "file_extension": ".py",
   "mimetype": "text/x-python",
   "name": "python",
   "nbconvert_exporter": "python",
   "pygments_lexer": "ipython3",
   "version": "3.4.3"
  }
 },
 "nbformat": 4,
 "nbformat_minor": 0
}
