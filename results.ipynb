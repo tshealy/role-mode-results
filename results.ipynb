{
 "cells": [
  {
   "cell_type": "markdown",
   "metadata": {},
   "source": [
    "# Results for the Envision Priming Study. "
   ]
  },
  {
   "cell_type": "markdown",
   "metadata": {},
   "source": [
    "Overview of the findings: \n",
    ">The 8 credits primed with high score examples, the p-value is 0.0005. Primed group scored on average 30 points more. Really significant!! Very unlikely due to chance. \n",
    "\n",
    ">The 2 credits WITHOUT an example, the p-value is 0.05. Non primed group scored on average 5.4 points more. Interesting that the non primed group scored higher!\n",
    "\n",
    ">Credit QL1.3 with a negative example, the p-value is 0.02. Non primed group scored on average 2 points more. Also, interesting the non primed group scored higher! \n"
   ]
  },
  {
   "cell_type": "code",
   "execution_count": 1,
   "metadata": {
    "collapsed": true
   },
   "outputs": [],
   "source": [
    "import numpy as np\n",
    "import pandas as pd"
   ]
  },
  {
   "cell_type": "code",
   "execution_count": 2,
   "metadata": {
    "collapsed": true
   },
   "outputs": [],
   "source": [
    "%matplotlib inline"
   ]
  },
  {
   "cell_type": "markdown",
   "metadata": {},
   "source": [
    "### Importing data from the database (as of 8/15/2015)"
   ]
  },
  {
   "cell_type": "code",
   "execution_count": 3,
   "metadata": {
    "collapsed": false
   },
   "outputs": [],
   "source": [
    "engineers = pd.read_csv(\"envision-role-model-engineer.csv\")"
   ]
  },
  {
   "cell_type": "code",
   "execution_count": 4,
   "metadata": {
    "collapsed": true
   },
   "outputs": [],
   "source": [
    "ratings = pd.read_csv(\"envision-role-model-rating.csv\")"
   ]
  },
  {
   "cell_type": "code",
   "execution_count": 17,
   "metadata": {
    "collapsed": true
   },
   "outputs": [],
   "source": [
    "engineers.rename(columns={'id': 'engineer_id'}, inplace=True)"
   ]
  },
  {
   "cell_type": "code",
   "execution_count": 12,
   "metadata": {
    "collapsed": false
   },
   "outputs": [
    {
     "data": {
      "text/plain": [
       "58"
      ]
     },
     "execution_count": 12,
     "metadata": {},
     "output_type": "execute_result"
    }
   ],
   "source": [
    "len(ratings)"
   ]
  },
  {
   "cell_type": "markdown",
   "metadata": {},
   "source": [
    "In total, we have 58 responses. "
   ]
  },
  {
   "cell_type": "markdown",
   "metadata": {},
   "source": [
    "###Merging the two databases. engineers includes their name and version. ratings includes their scores."
   ]
  },
  {
   "cell_type": "code",
   "execution_count": 21,
   "metadata": {
    "collapsed": false
   },
   "outputs": [],
   "source": [
    "all_ratings = pd.merge(engineers, ratings, how='inner', on='engineer_id')"
   ]
  },
  {
   "cell_type": "code",
   "execution_count": 24,
   "metadata": {
    "collapsed": true
   },
   "outputs": [],
   "source": [
    "all_ratings.rename(columns={'id': 'rating_id'}, inplace=True)"
   ]
  },
  {
   "cell_type": "code",
   "execution_count": 26,
   "metadata": {
    "collapsed": true
   },
   "outputs": [],
   "source": [
    "primed = all_ratings[all_ratings['version'] == 1]"
   ]
  },
  {
   "cell_type": "code",
   "execution_count": 27,
   "metadata": {
    "collapsed": false
   },
   "outputs": [
    {
     "data": {
      "text/plain": [
       "30"
      ]
     },
     "execution_count": 27,
     "metadata": {},
     "output_type": "execute_result"
    }
   ],
   "source": [
    "len(primed)"
   ]
  },
  {
   "cell_type": "code",
   "execution_count": 28,
   "metadata": {
    "collapsed": true
   },
   "outputs": [],
   "source": [
    "non_primed = all_ratings[all_ratings['version'] == 0]"
   ]
  },
  {
   "cell_type": "code",
   "execution_count": 29,
   "metadata": {
    "collapsed": false
   },
   "outputs": [
    {
     "data": {
      "text/plain": [
       "28"
      ]
     },
     "execution_count": 29,
     "metadata": {},
     "output_type": "execute_result"
    }
   ],
   "source": [
    "len(non_primed)"
   ]
  },
  {
   "cell_type": "markdown",
   "metadata": {},
   "source": [
    "30 primed respones and 28 non primed"
   ]
  },
  {
   "cell_type": "code",
   "execution_count": 31,
   "metadata": {
    "collapsed": false
   },
   "outputs": [
    {
     "data": {
      "text/plain": [
       "Index(['engineer_id', 'name', 'version', 'rating_id', 'total_time',\n",
       "       'QL1_2_inc', 'QL1_2_loa', 'QL1_2_exp', 'QL1_3_inc', 'QL1_3_loa',\n",
       "       'QL1_3_exp', 'QL2_3_inc', 'QL2_3_loa', 'QL2_3_exp', 'QL3_2_inc',\n",
       "       'QL3_2_loa', 'QL3_2_exp', 'QL3_3_inc', 'QL3_3_loa', 'QL3_3_exp',\n",
       "       'NW1_2_inc', 'NW1_2_loa', 'NW1_2_exp', 'NW1_5_inc', 'NW1_5_loa',\n",
       "       'NW1_5_exp', 'NW2_1_inc', 'NW2_1_loa', 'NW2_1_exp', 'NW2_3_inc',\n",
       "       'NW2_3_loa', 'NW2_3_exp', 'NW3_4_inc', 'NW3_4_loa', 'NW3_4_exp',\n",
       "       'CR1_1_inc', 'CR1_1_loa', 'CR1_1_exp', 'CR2_2_inc', 'CR2_2_loa',\n",
       "       'CR2_2_exp'],\n",
       "      dtype='object')"
      ]
     },
     "execution_count": 31,
     "metadata": {},
     "output_type": "execute_result"
    }
   ],
   "source": [
    "primed.columns"
   ]
  },
  {
   "cell_type": "markdown",
   "metadata": {},
   "source": [
    "#T-test comparing Primed and Non Primed results"
   ]
  },
  {
   "cell_type": "markdown",
   "metadata": {},
   "source": [
    "###Adding the 8 credits with or without examples together for t-test. "
   ]
  },
  {
   "cell_type": "code",
   "execution_count": 37,
   "metadata": {
    "collapsed": false,
    "scrolled": true
   },
   "outputs": [
    {
     "name": "stderr",
     "output_type": "stream",
     "text": [
      "/usr/local/lib/python3.4/site-packages/IPython/kernel/__main__.py:1: SettingWithCopyWarning: \n",
      "A value is trying to be set on a copy of a slice from a DataFrame.\n",
      "Try using .loc[row_indexer,col_indexer] = value instead\n",
      "\n",
      "See the the caveats in the documentation: http://pandas.pydata.org/pandas-docs/stable/indexing.html#indexing-view-versus-copy\n",
      "  if __name__ == '__main__':\n"
     ]
    }
   ],
   "source": [
    "primed['total'] = (primed.QL1_2_loa + primed.QL2_3_loa + primed.QL3_2_loa + primed.QL3_3_loa + primed.NW1_2_loa + primed.NW2_1_loa + primed.NW2_3_loa + primed.CR2_2_loa)"
   ]
  },
  {
   "cell_type": "code",
   "execution_count": 41,
   "metadata": {
    "collapsed": false
   },
   "outputs": [
    {
     "name": "stderr",
     "output_type": "stream",
     "text": [
      "/usr/local/lib/python3.4/site-packages/IPython/kernel/__main__.py:1: SettingWithCopyWarning: \n",
      "A value is trying to be set on a copy of a slice from a DataFrame.\n",
      "Try using .loc[row_indexer,col_indexer] = value instead\n",
      "\n",
      "See the the caveats in the documentation: http://pandas.pydata.org/pandas-docs/stable/indexing.html#indexing-view-versus-copy\n",
      "  if __name__ == '__main__':\n"
     ]
    }
   ],
   "source": [
    "non_primed['total'] = (non_primed.QL1_2_loa + non_primed.QL2_3_loa + non_primed.QL3_2_loa + non_primed.QL3_3_loa + non_primed.NW1_2_loa + non_primed.NW2_1_loa + non_primed.NW2_3_loa + non_primed.CR2_2_loa)"
   ]
  },
  {
   "cell_type": "markdown",
   "metadata": {},
   "source": [
    "###comparing sum, mean and median for the 8 credits with or without examples depending on version. Note the sum is not the best measure because reponses are not equal between groups."
   ]
  },
  {
   "cell_type": "markdown",
   "metadata": {},
   "source": [
    "Non Primed"
   ]
  },
  {
   "cell_type": "code",
   "execution_count": 116,
   "metadata": {
    "collapsed": false
   },
   "outputs": [
    {
     "name": "stdout",
     "output_type": "stream",
     "text": [
      "sum:1864, mean:66.57, median:65.5\n"
     ]
    }
   ],
   "source": [
    "sum_mean_median = [non_primed['total'].sum(), non_primed['total'].mean().round(2), non_primed['total'].median()]\n",
    "print(\"sum:{}, mean:{}, median:{}\".format(sum_mean_median[0], sum_mean_median[1], sum_mean_median[2]))"
   ]
  },
  {
   "cell_type": "markdown",
   "metadata": {},
   "source": [
    "Primed"
   ]
  },
  {
   "cell_type": "code",
   "execution_count": 118,
   "metadata": {
    "collapsed": false
   },
   "outputs": [
    {
     "name": "stdout",
     "output_type": "stream",
     "text": [
      "sum:2902, mean:96.73, median:103.0\n"
     ]
    }
   ],
   "source": [
    "sum_mean_median = [primed['total'].sum(), primed['total'].mean().round(2), primed['total'].median()]\n",
    "print(\"sum:{}, mean:{}, median:{}\".format(sum_mean_median[0], sum_mean_median[1], sum_mean_median[2]))"
   ]
  },
  {
   "cell_type": "markdown",
   "metadata": {},
   "source": [
    "An average 30 point difference between groups over just 8 questions."
   ]
  },
  {
   "cell_type": "markdown",
   "metadata": {},
   "source": [
    "###checking normal distribution"
   ]
  },
  {
   "cell_type": "code",
   "execution_count": 66,
   "metadata": {
    "collapsed": false
   },
   "outputs": [
    {
     "data": {
      "text/plain": [
       "NormaltestResult(statistic=1.4965770314375912, pvalue=0.47317569288881023)"
      ]
     },
     "execution_count": 66,
     "metadata": {},
     "output_type": "execute_result"
    }
   ],
   "source": [
    "from scipy.stats import mstats\n",
    "\n",
    "mstats.normaltest(non_primed['total'], axis=0)"
   ]
  },
  {
   "cell_type": "code",
   "execution_count": 74,
   "metadata": {
    "collapsed": false
   },
   "outputs": [
    {
     "data": {
      "text/plain": [
       "<matplotlib.axes._subplots.AxesSubplot at 0x10b84e4e0>"
      ]
     },
     "execution_count": 74,
     "metadata": {},
     "output_type": "execute_result"
    },
    {
     "data": {
      "image/png": "[encoded data removed]",
      "text/plain": [
       "<matplotlib.figure.Figure at 0x10b858b38>"
      ]
     },
     "metadata": {},
     "output_type": "display_data"
    }
   ],
   "source": [
    "non_primed['total'].plot(kind='hist')"
   ]
  },
  {
   "cell_type": "code",
   "execution_count": 67,
   "metadata": {
    "collapsed": false
   },
   "outputs": [
    {
     "data": {
      "text/plain": [
       "NormaltestResult(statistic=5.1489840170213395, pvalue=0.076192518120086872)"
      ]
     },
     "execution_count": 67,
     "metadata": {},
     "output_type": "execute_result"
    }
   ],
   "source": [
    "mstats.normaltest(primed['total'], axis=0)"
   ]
  },
  {
   "cell_type": "code",
   "execution_count": 75,
   "metadata": {
    "collapsed": false
   },
   "outputs": [
    {
     "data": {
      "text/plain": [
       "<matplotlib.axes._subplots.AxesSubplot at 0x10b90f6a0>"
      ]
     },
     "execution_count": 75,
     "metadata": {},
     "output_type": "execute_result"
    },
    {
     "data": {
      "image/png": "[encoded data removed]",
      "text/plain": [
       "<matplotlib.figure.Figure at 0x10b95a550>"
      ]
     },
     "metadata": {},
     "output_type": "display_data"
    }
   ],
   "source": [
    "primed['total'].plot(kind='hist')"
   ]
  },
  {
   "cell_type": "markdown",
   "metadata": {},
   "source": [
    "Results appear normal (enough) to use a t-test. Both datasets have a p value >0.05. Primed results are barely above at 0.07."
   ]
  },
  {
   "cell_type": "markdown",
   "metadata": {},
   "source": [
    "##T-Test"
   ]
  },
  {
   "cell_type": "code",
   "execution_count": 60,
   "metadata": {
    "collapsed": false
   },
   "outputs": [
    {
     "data": {
      "text/plain": [
       "Ttest_indResult(statistic=3.715435736768637, pvalue=0.00046983496914903417)"
      ]
     },
     "execution_count": 60,
     "metadata": {},
     "output_type": "execute_result"
    }
   ],
   "source": [
    "from scipy.stats import ttest_ind\n",
    "\n",
    "ttest_ind(primed['total'], non_primed['total'])"
   ]
  },
  {
   "cell_type": "markdown",
   "metadata": {},
   "source": [
    "#^Really significant p-value!! Highly unlikely the difference is due to chance. "
   ]
  },
  {
   "cell_type": "markdown",
   "metadata": {},
   "source": [
    "\n",
    "\n",
    "##Below are the results for the no example questions (NW3.4 and CR1.1)"
   ]
  },
  {
   "cell_type": "code",
   "execution_count": 77,
   "metadata": {
    "collapsed": false
   },
   "outputs": [
    {
     "name": "stderr",
     "output_type": "stream",
     "text": [
      "/usr/local/lib/python3.4/site-packages/IPython/kernel/__main__.py:1: SettingWithCopyWarning: \n",
      "A value is trying to be set on a copy of a slice from a DataFrame.\n",
      "Try using .loc[row_indexer,col_indexer] = value instead\n",
      "\n",
      "See the the caveats in the documentation: http://pandas.pydata.org/pandas-docs/stable/indexing.html#indexing-view-versus-copy\n",
      "  if __name__ == '__main__':\n"
     ]
    }
   ],
   "source": [
    "non_primed['no_ex_total'] = (non_primed.NW3_4_loa + non_primed.CR1_1_loa)"
   ]
  },
  {
   "cell_type": "code",
   "execution_count": 78,
   "metadata": {
    "collapsed": false
   },
   "outputs": [
    {
     "name": "stderr",
     "output_type": "stream",
     "text": [
      "/usr/local/lib/python3.4/site-packages/IPython/kernel/__main__.py:1: SettingWithCopyWarning: \n",
      "A value is trying to be set on a copy of a slice from a DataFrame.\n",
      "Try using .loc[row_indexer,col_indexer] = value instead\n",
      "\n",
      "See the the caveats in the documentation: http://pandas.pydata.org/pandas-docs/stable/indexing.html#indexing-view-versus-copy\n",
      "  if __name__ == '__main__':\n"
     ]
    }
   ],
   "source": [
    "primed['no_ex_total'] = (primed.NW3_4_loa + primed.CR1_1_loa)"
   ]
  },
  {
   "cell_type": "markdown",
   "metadata": {},
   "source": [
    "###First comparing sum, mean, and median. Note the sum is not a great measure because the reponses are not equal between groups."
   ]
  },
  {
   "cell_type": "code",
   "execution_count": 114,
   "metadata": {
    "collapsed": false
   },
   "outputs": [
    {
     "name": "stdout",
     "output_type": "stream",
     "text": [
      "sum:493, mean:17.61, median:13.0\n"
     ]
    }
   ],
   "source": [
    "sum_mean_median = [non_primed['no_ex_total'].sum(), non_primed['no_ex_total'].mean().round(2), non_primed['no_ex_total'].median()]\n",
    "print(\"sum:{}, mean:{}, median:{}\".format(sum_mean_median[0], sum_mean_median[1], sum_mean_median[2]))"
   ]
  },
  {
   "cell_type": "code",
   "execution_count": 115,
   "metadata": {
    "collapsed": false
   },
   "outputs": [
    {
     "name": "stdout",
     "output_type": "stream",
     "text": [
      "sum:367, mean:12.23, median:9.0\n"
     ]
    }
   ],
   "source": [
    "sum_mean_median = [primed['no_ex_total'].sum(), primed['no_ex_total'].mean().round(2), primed['no_ex_total'].median()]\n",
    "print(\"sum:{}, mean:{}, median:{}\".format(sum_mean_median[0], sum_mean_median[1], sum_mean_median[2]))"
   ]
  },
  {
   "cell_type": "markdown",
   "metadata": {},
   "source": [
    "For the no example questions, the non-primed group scored better. The primed scores appear to negatively influenced when no longer provided."
   ]
  },
  {
   "cell_type": "markdown",
   "metadata": {},
   "source": [
    "###Checking Normal distribution (even though Mann Whiteny Test does not require)"
   ]
  },
  {
   "cell_type": "markdown",
   "metadata": {},
   "source": [
    "Non Primed"
   ]
  },
  {
   "cell_type": "code",
   "execution_count": 119,
   "metadata": {
    "collapsed": false
   },
   "outputs": [
    {
     "data": {
      "text/plain": [
       "NormaltestResult(statistic=4.1839785658015245, pvalue=0.1234413316811705)"
      ]
     },
     "execution_count": 119,
     "metadata": {},
     "output_type": "execute_result"
    }
   ],
   "source": [
    "mstats.normaltest(non_primed['no_ex_total'], axis=0)"
   ]
  },
  {
   "cell_type": "markdown",
   "metadata": {},
   "source": [
    "Primed"
   ]
  },
  {
   "cell_type": "code",
   "execution_count": 120,
   "metadata": {
    "collapsed": false
   },
   "outputs": [
    {
     "data": {
      "text/plain": [
       "NormaltestResult(statistic=5.9557446889156145, pvalue=0.050901018568454949)"
      ]
     },
     "execution_count": 120,
     "metadata": {},
     "output_type": "execute_result"
    }
   ],
   "source": [
    "mstats.normaltest(primed['no_ex_total'], axis=0)"
   ]
  },
  {
   "cell_type": "markdown",
   "metadata": {},
   "source": [
    "Doesn't really matter but not normally distributed."
   ]
  },
  {
   "cell_type": "markdown",
   "metadata": {},
   "source": [
    "#Mann Whitney U Test "
   ]
  },
  {
   "cell_type": "markdown",
   "metadata": {},
   "source": [
    "###This is the two scores added together"
   ]
  },
  {
   "cell_type": "code",
   "execution_count": 85,
   "metadata": {
    "collapsed": false
   },
   "outputs": [
    {
     "data": {
      "text/plain": [
       "MannwhitneyuResult(statistic=314.5, pvalue=0.049865619881486078)"
      ]
     },
     "execution_count": 85,
     "metadata": {},
     "output_type": "execute_result"
    }
   ],
   "source": [
    "from scipy.stats import mannwhitneyu\n",
    "\n",
    "mannwhitneyu(non_primed['no_ex_total'], primed['no_ex_total'])"
   ]
  },
  {
   "cell_type": "markdown",
   "metadata": {},
   "source": [
    "95% probability the priming intervention influenced the outcome. "
   ]
  },
  {
   "cell_type": "markdown",
   "metadata": {},
   "source": [
    "###Credit NW3.4 - 1 of 2 questions with no exmaple. "
   ]
  },
  {
   "cell_type": "markdown",
   "metadata": {},
   "source": [
    "Non Primed"
   ]
  },
  {
   "cell_type": "code",
   "execution_count": 111,
   "metadata": {
    "collapsed": false
   },
   "outputs": [
    {
     "name": "stdout",
     "output_type": "stream",
     "text": [
      "sum:249, mean:8.89, median:9.0\n"
     ]
    }
   ],
   "source": [
    "sum_mean_median = [non_primed['NW3_4_loa'].sum(), non_primed['NW3_4_loa'].mean().round(2), non_primed['NW3_4_loa'].median()]\n",
    "print(\"sum:{}, mean:{}, median:{}\".format(sum_mean_median[0], sum_mean_median[1], sum_mean_median[2]))"
   ]
  },
  {
   "cell_type": "markdown",
   "metadata": {},
   "source": [
    "Primed"
   ]
  },
  {
   "cell_type": "code",
   "execution_count": 112,
   "metadata": {
    "collapsed": false
   },
   "outputs": [
    {
     "name": "stdout",
     "output_type": "stream",
     "text": [
      "sum:181, mean:6.03, median:3.0\n"
     ]
    }
   ],
   "source": [
    "sum_mean_median = [primed['NW3_4_loa'].sum(), primed['NW3_4_loa'].mean().round(2), primed['NW3_4_loa'].median()]\n",
    "print(\"sum:{}, mean:{}, median:{}\".format(sum_mean_median[0], sum_mean_median[1], sum_mean_median[2]))"
   ]
  },
  {
   "cell_type": "markdown",
   "metadata": {},
   "source": [
    "The non primed group scored higher. "
   ]
  },
  {
   "cell_type": "markdown",
   "metadata": {},
   "source": [
    "### Mann Whiteny for NW3.4"
   ]
  },
  {
   "cell_type": "code",
   "execution_count": 86,
   "metadata": {
    "collapsed": false
   },
   "outputs": [
    {
     "data": {
      "text/plain": [
       "MannwhitneyuResult(statistic=313.0, pvalue=0.043709644558397064)"
      ]
     },
     "execution_count": 86,
     "metadata": {},
     "output_type": "execute_result"
    }
   ],
   "source": [
    "mannwhitneyu(non_primed['NW3_4_loa'], primed['NW3_4_loa'])"
   ]
  },
  {
   "cell_type": "markdown",
   "metadata": {},
   "source": [
    "'>95% chance the intervention influenced the outcome. "
   ]
  },
  {
   "cell_type": "markdown",
   "metadata": {},
   "source": [
    "###Credit CR1.1 - 1 of 2 questions with no exmaple"
   ]
  },
  {
   "cell_type": "markdown",
   "metadata": {},
   "source": [
    "Non Primed"
   ]
  },
  {
   "cell_type": "code",
   "execution_count": 125,
   "metadata": {
    "collapsed": false
   },
   "outputs": [
    {
     "name": "stdout",
     "output_type": "stream",
     "text": [
      "sum:244, mean:8.71, median:4.0\n"
     ]
    }
   ],
   "source": [
    "sum_mean_median = [non_primed['CR1_1_loa'].sum(), non_primed['CR1_1_loa'].mean().round(2), non_primed['CR1_1_loa'].median()]\n",
    "print(\"sum:{}, mean:{}, median:{}\".format(sum_mean_median[0], sum_mean_median[1], sum_mean_median[2]))"
   ]
  },
  {
   "cell_type": "markdown",
   "metadata": {},
   "source": [
    "Primed"
   ]
  },
  {
   "cell_type": "code",
   "execution_count": 126,
   "metadata": {
    "collapsed": false
   },
   "outputs": [
    {
     "name": "stdout",
     "output_type": "stream",
     "text": [
      "sum:186, mean:6.2, median:0.0\n"
     ]
    }
   ],
   "source": [
    "sum_mean_median = [primed['CR1_1_loa'].sum(), primed['CR1_1_loa'].mean().round(2), primed['CR1_1_loa'].median()]\n",
    "print(\"sum:{}, mean:{}, median:{}\".format(sum_mean_median[0], sum_mean_median[1], sum_mean_median[2]))"
   ]
  },
  {
   "cell_type": "markdown",
   "metadata": {},
   "source": [
    "The non primed group scored higher than the primed. "
   ]
  },
  {
   "cell_type": "markdown",
   "metadata": {},
   "source": [
    "### Mann Whiteny for CR1.1"
   ]
  },
  {
   "cell_type": "code",
   "execution_count": 87,
   "metadata": {
    "collapsed": false
   },
   "outputs": [
    {
     "data": {
      "text/plain": [
       "MannwhitneyuResult(statistic=320.0, pvalue=0.05214693114403364)"
      ]
     },
     "execution_count": 87,
     "metadata": {},
     "output_type": "execute_result"
    }
   ],
   "source": [
    "mannwhitneyu(non_primed['CR1_1_loa'], primed['CR1_1_loa'])"
   ]
  },
  {
   "cell_type": "markdown",
   "metadata": {},
   "source": [
    "95% probability the intervention effected the outcome. "
   ]
  },
  {
   "cell_type": "markdown",
   "metadata": {},
   "source": [
    "##Negative Example Credits"
   ]
  },
  {
   "cell_type": "markdown",
   "metadata": {},
   "source": [
    "Total score of the two credits"
   ]
  },
  {
   "cell_type": "code",
   "execution_count": 91,
   "metadata": {
    "collapsed": false
   },
   "outputs": [
    {
     "name": "stderr",
     "output_type": "stream",
     "text": [
      "/usr/local/lib/python3.4/site-packages/IPython/kernel/__main__.py:1: SettingWithCopyWarning: \n",
      "A value is trying to be set on a copy of a slice from a DataFrame.\n",
      "Try using .loc[row_indexer,col_indexer] = value instead\n",
      "\n",
      "See the the caveats in the documentation: http://pandas.pydata.org/pandas-docs/stable/indexing.html#indexing-view-versus-copy\n",
      "  if __name__ == '__main__':\n"
     ]
    }
   ],
   "source": [
    "primed['neg_ex_total'] = (primed.QL1_3_loa + primed.NW1_5_loa)"
   ]
  },
  {
   "cell_type": "code",
   "execution_count": 92,
   "metadata": {
    "collapsed": false
   },
   "outputs": [
    {
     "name": "stderr",
     "output_type": "stream",
     "text": [
      "/usr/local/lib/python3.4/site-packages/IPython/kernel/__main__.py:1: SettingWithCopyWarning: \n",
      "A value is trying to be set on a copy of a slice from a DataFrame.\n",
      "Try using .loc[row_indexer,col_indexer] = value instead\n",
      "\n",
      "See the the caveats in the documentation: http://pandas.pydata.org/pandas-docs/stable/indexing.html#indexing-view-versus-copy\n",
      "  if __name__ == '__main__':\n"
     ]
    }
   ],
   "source": [
    "non_primed['neg_ex_total'] = (non_primed.QL1_3_loa + non_primed.NW1_5_loa)"
   ]
  },
  {
   "cell_type": "markdown",
   "metadata": {},
   "source": [
    "###Sum, median, mode"
   ]
  },
  {
   "cell_type": "markdown",
   "metadata": {},
   "source": [
    "Non Primed"
   ]
  },
  {
   "cell_type": "code",
   "execution_count": 130,
   "metadata": {
    "collapsed": false,
    "scrolled": true
   },
   "outputs": [
    {
     "name": "stdout",
     "output_type": "stream",
     "text": [
      "sum:275, mean:9.82, median:7.0\n"
     ]
    }
   ],
   "source": [
    "sum_mean_median = [non_primed['neg_ex_total'].sum(), non_primed['neg_ex_total'].mean().round(2), non_primed['neg_ex_total'].median()]\n",
    "print(\"sum:{}, mean:{}, median:{}\".format(sum_mean_median[0], sum_mean_median[1], sum_mean_median[2]))"
   ]
  },
  {
   "cell_type": "markdown",
   "metadata": {},
   "source": [
    "Primed"
   ]
  },
  {
   "cell_type": "code",
   "execution_count": 131,
   "metadata": {
    "collapsed": false
   },
   "outputs": [
    {
     "name": "stdout",
     "output_type": "stream",
     "text": [
      "sum:206, mean:6.87, median:5.0\n"
     ]
    }
   ],
   "source": [
    "sum_mean_median = [primed['neg_ex_total'].sum(), primed['neg_ex_total'].mean().round(2), primed['neg_ex_total'].median()]\n",
    "print(\"sum:{}, mean:{}, median:{}\".format(sum_mean_median[0], sum_mean_median[1], sum_mean_median[2]))"
   ]
  },
  {
   "cell_type": "markdown",
   "metadata": {},
   "source": [
    "The non primed group scored higher."
   ]
  },
  {
   "cell_type": "markdown",
   "metadata": {},
   "source": [
    "###Mann Whitney for negatvie examples added together"
   ]
  },
  {
   "cell_type": "code",
   "execution_count": 93,
   "metadata": {
    "collapsed": false
   },
   "outputs": [
    {
     "data": {
      "text/plain": [
       "MannwhitneyuResult(statistic=330.0, pvalue=0.080455247559231224)"
      ]
     },
     "execution_count": 93,
     "metadata": {},
     "output_type": "execute_result"
    }
   ],
   "source": [
    "mannwhitneyu(non_primed['neg_ex_total'], primed['neg_ex_total'])"
   ]
  },
  {
   "cell_type": "markdown",
   "metadata": {},
   "source": [
    "##Negative Example Credit QL1.3"
   ]
  },
  {
   "cell_type": "code",
   "execution_count": 133,
   "metadata": {
    "collapsed": false
   },
   "outputs": [
    {
     "name": "stdout",
     "output_type": "stream",
     "text": [
      "sum:144, mean:5.14, median:2.0\n"
     ]
    }
   ],
   "source": [
    "sum_mean_median = [non_primed['QL1_3_loa'].sum(), non_primed['QL1_3_loa'].mean().round(2), non_primed['QL1_3_loa'].median()]\n",
    "print(\"sum:{}, mean:{}, median:{}\".format(sum_mean_median[0], sum_mean_median[1], sum_mean_median[2]))"
   ]
  },
  {
   "cell_type": "code",
   "execution_count": 136,
   "metadata": {
    "collapsed": false
   },
   "outputs": [
    {
     "name": "stdout",
     "output_type": "stream",
     "text": [
      "sum:89, mean:2.97, median:1.0\n"
     ]
    }
   ],
   "source": [
    "sum_mean_median = [primed['QL1_3_loa'].sum(), primed['QL1_3_loa'].mean().round(2), primed['QL1_3_loa'].median()]\n",
    "print(\"sum:{}, mean:{}, median:{}\".format(sum_mean_median[0], sum_mean_median[1], sum_mean_median[2]))"
   ]
  },
  {
   "cell_type": "markdown",
   "metadata": {},
   "source": [
    "The non primed group scored more points on average. "
   ]
  },
  {
   "cell_type": "markdown",
   "metadata": {},
   "source": [
    "###Mann Whitney for negative example QL1.3"
   ]
  },
  {
   "cell_type": "code",
   "execution_count": 94,
   "metadata": {
    "collapsed": false
   },
   "outputs": [
    {
     "data": {
      "text/plain": [
       "MannwhitneyuResult(statistic=290.0, pvalue=0.019684967670828155)"
      ]
     },
     "execution_count": 94,
     "metadata": {},
     "output_type": "execute_result"
    }
   ],
   "source": [
    "# mann whitney u test for QL1.3\n",
    "mannwhitneyu(non_primed['QL1_3_loa'], primed['QL1_3_loa'])"
   ]
  },
  {
   "cell_type": "markdown",
   "metadata": {},
   "source": [
    "99% probability the intervention influenced the outcome. "
   ]
  },
  {
   "cell_type": "markdown",
   "metadata": {},
   "source": [
    "##Negative Example Credit NW1.5"
   ]
  },
  {
   "cell_type": "markdown",
   "metadata": {},
   "source": [
    "Non Primed"
   ]
  },
  {
   "cell_type": "code",
   "execution_count": 138,
   "metadata": {
    "collapsed": false
   },
   "outputs": [
    {
     "name": "stdout",
     "output_type": "stream",
     "text": [
      "sum:131, mean:4.68, median:2.0\n"
     ]
    }
   ],
   "source": [
    "sum_mean_median = [non_primed['NW1_5_loa'].sum(), non_primed['NW1_5_loa'].mean().round(2), non_primed['NW1_5_loa'].median()]\n",
    "print(\"sum:{}, mean:{}, median:{}\".format(sum_mean_median[0], sum_mean_median[1], sum_mean_median[2]))"
   ]
  },
  {
   "cell_type": "markdown",
   "metadata": {},
   "source": [
    "Primed"
   ]
  },
  {
   "cell_type": "code",
   "execution_count": 137,
   "metadata": {
    "collapsed": false
   },
   "outputs": [
    {
     "name": "stdout",
     "output_type": "stream",
     "text": [
      "sum:117, mean:3.9, median:1.0\n"
     ]
    }
   ],
   "source": [
    "sum_mean_median = [primed['NW1_5_loa'].sum(), primed['NW1_5_loa'].mean().round(2), primed['NW1_5_loa'].median()]\n",
    "print(\"sum:{}, mean:{}, median:{}\".format(sum_mean_median[0], sum_mean_median[1], sum_mean_median[2]))"
   ]
  },
  {
   "cell_type": "markdown",
   "metadata": {},
   "source": [
    "Non primed group on average scored more points than the primed. "
   ]
  },
  {
   "cell_type": "markdown",
   "metadata": {},
   "source": [
    "### Mann whitney for negative example NW1.5"
   ]
  },
  {
   "cell_type": "code",
   "execution_count": 95,
   "metadata": {
    "collapsed": false
   },
   "outputs": [
    {
     "data": {
      "text/plain": [
       "MannwhitneyuResult(statistic=389.0, pvalue=0.30690139915943737)"
      ]
     },
     "execution_count": 95,
     "metadata": {},
     "output_type": "execute_result"
    }
   ],
   "source": [
    "mannwhitneyu(non_primed['NW1_5_loa'], primed['NW1_5_loa'])"
   ]
  },
  {
   "cell_type": "markdown",
   "metadata": {},
   "source": [
    "Not signifcant. "
   ]
  }
 ],
 "metadata": {
  "kernelspec": {
   "display_name": "Python 3",
   "language": "python",
   "name": "python3"
  },
  "language_info": {
   "codemirror_mode": {
    "name": "ipython",
    "version": 3
   },
   "file_extension": ".py",
   "mimetype": "text/x-python",
   "name": "python",
   "nbconvert_exporter": "python",
   "pygments_lexer": "ipython3",
   "version": "3.4.3"
  }
 },
 "nbformat": 4,
 "nbformat_minor": 0
}
