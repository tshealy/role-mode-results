{
 "cells": [
  {
   "cell_type": "code",
   "execution_count": 8,
   "metadata": {
    "collapsed": true
   },
   "outputs": [],
   "source": [
    "import numpy as np\n",
    "import pandas as pd\n",
    "from scipy import stats\n",
    "%matplotlib inline"
   ]
  },
  {
   "cell_type": "code",
   "execution_count": 2,
   "metadata": {
    "collapsed": true
   },
   "outputs": [],
   "source": [
    "primed = pd.read_pickle(\"primed_no_duplicate.pickle\")"
   ]
  },
  {
   "cell_type": "code",
   "execution_count": 3,
   "metadata": {
    "collapsed": true
   },
   "outputs": [],
   "source": [
    "non_primed = pd.read_pickle(\"non_primed_no_duplicate.pickle\")"
   ]
  },
  {
   "cell_type": "code",
   "execution_count": 4,
   "metadata": {
    "collapsed": true
   },
   "outputs": [],
   "source": [
    "loa_list_pos_model = ['QL1_2_loa', 'QL2_3_loa', 'QL3_2_loa', \n",
    "            'QL3_3_loa', 'NW1_2_loa', 'NW2_1_loa', \n",
    "            'NW2_3_loa', 'CR2_2_loa']"
   ]
  },
  {
   "cell_type": "code",
   "execution_count": 5,
   "metadata": {
    "collapsed": true
   },
   "outputs": [],
   "source": [
    "loa_list_neg_model = ['QL1_3_loa', 'NW1_5_loa']"
   ]
  },
  {
   "cell_type": "code",
   "execution_count": 6,
   "metadata": {
    "collapsed": true
   },
   "outputs": [],
   "source": [
    "loa_list_no_model = ['NW3_4_loa', 'CR1_1_loa']"
   ]
  },
  {
   "cell_type": "markdown",
   "metadata": {},
   "source": [
    "## Standard Error Primed "
   ]
  },
  {
   "cell_type": "code",
   "execution_count": 22,
   "metadata": {
    "collapsed": false
   },
   "outputs": [
    {
     "name": "stdout",
     "output_type": "stream",
     "text": [
      "QL1_2_loa 1.05938476733\n",
      "QL2_3_loa 0.784128192494\n",
      "QL3_2_loa 0.705051939816\n",
      "QL3_3_loa 0.701676492236\n",
      "NW1_2_loa 1.44710836244\n",
      "NW2_1_loa 1.43719416417\n",
      "NW2_3_loa 1.27359031431\n",
      "CR2_2_loa 1.62366169597\n"
     ]
    }
   ],
   "source": [
    "p_pos_se = []\n",
    "for i in loa_list_pos_model:\n",
    "    se = stats.sem(primed[i])\n",
    "    p_pos_se.append(se)\n",
    "    print(i, se)"
   ]
  },
  {
   "cell_type": "code",
   "execution_count": 28,
   "metadata": {
    "collapsed": false
   },
   "outputs": [
    {
     "name": "stdout",
     "output_type": "stream",
     "text": [
      "QL1_3_loa 0.953824709498\n",
      "NW1_5_loa 0.973588105785\n"
     ]
    }
   ],
   "source": [
    "p_neg_se = []\n",
    "for i in loa_list_neg_model:\n",
    "    se = stats.sem(primed[i])\n",
    "    p_neg_se.append(se)\n",
    "    print(i, se)"
   ]
  },
  {
   "cell_type": "code",
   "execution_count": 31,
   "metadata": {
    "collapsed": false
   },
   "outputs": [
    {
     "name": "stdout",
     "output_type": "stream",
     "text": [
      "NW3_4_loa 1.41738106487\n",
      "CR1_1_loa 1.69933168747\n"
     ]
    }
   ],
   "source": [
    "p_no_se = []\n",
    "for i in loa_list_no_model:\n",
    "    se = stats.sem(primed[i])\n",
    "    p_no_se.append(se) \n",
    "    print(i, se)"
   ]
  },
  {
   "cell_type": "markdown",
   "metadata": {},
   "source": [
    "## Standard Error - Non Primed"
   ]
  },
  {
   "cell_type": "code",
   "execution_count": 24,
   "metadata": {
    "collapsed": false
   },
   "outputs": [
    {
     "name": "stdout",
     "output_type": "stream",
     "text": [
      "QL1_2_loa 1.24531410394\n",
      "QL2_3_loa 0.777845608221\n",
      "QL3_2_loa 1.02799271385\n",
      "QL3_3_loa 0.866162465652\n",
      "NW1_2_loa 1.48798430374\n",
      "NW2_1_loa 1.4848963492\n",
      "NW2_3_loa 1.18998316567\n",
      "CR2_2_loa 1.27772616436\n"
     ]
    }
   ],
   "source": [
    "np_pos_se = []\n",
    "for i in loa_list_pos_model:\n",
    "    se = stats.sem(non_primed[i])\n",
    "    np_pos_se.append(se)\n",
    "    print(i, se)"
   ]
  },
  {
   "cell_type": "code",
   "execution_count": 27,
   "metadata": {
    "collapsed": false
   },
   "outputs": [
    {
     "name": "stdout",
     "output_type": "stream",
     "text": [
      "QL1_3_loa 1.09869607216\n",
      "NW1_5_loa 1.08122191788\n"
     ]
    }
   ],
   "source": [
    "np_neg_se = []\n",
    "for i in loa_list_neg_model:\n",
    "    se = stats.sem(non_primed[i])\n",
    "    np_neg_se.append(se)\n",
    "    print(i, se)"
   ]
  },
  {
   "cell_type": "code",
   "execution_count": 30,
   "metadata": {
    "collapsed": false
   },
   "outputs": [
    {
     "name": "stdout",
     "output_type": "stream",
     "text": [
      "NW3_4_loa 1.37056285704\n",
      "CR1_1_loa 1.77456975511\n"
     ]
    }
   ],
   "source": [
    "np_no_se = []\n",
    "for i in loa_list_no_model:\n",
    "    se = stats.sem(non_primed[i])\n",
    "    np_no_se.append(se)\n",
    "    print(i, se)"
   ]
  },
  {
   "cell_type": "markdown",
   "metadata": {},
   "source": [
    "## Difference Between Primed and Non Primed Standard Error "
   ]
  },
  {
   "cell_type": "code",
   "execution_count": 25,
   "metadata": {
    "collapsed": false
   },
   "outputs": [
    {
     "data": {
      "text/plain": [
       "[-0.18592933660692768,\n",
       " 0.0062825842731540904,\n",
       " -0.32294077403512444,\n",
       " -0.16448597341535365,\n",
       " -0.040875941299150398,\n",
       " -0.047702185033296818,\n",
       " 0.083607148637730555,\n",
       " 0.34593553160009716]"
      ]
     },
     "execution_count": 25,
     "metadata": {},
     "output_type": "execute_result"
    }
   ],
   "source": [
    "list(np.array(p_pos_se) - np.array(np_pos_se))"
   ]
  },
  {
   "cell_type": "markdown",
   "metadata": {},
   "source": [
    "Negative numbers mean non primed had greater standard error "
   ]
  },
  {
   "cell_type": "markdown",
   "metadata": {},
   "source": [
    "5 out of 8 non primed had greater standard error"
   ]
  },
  {
   "cell_type": "code",
   "execution_count": 29,
   "metadata": {
    "collapsed": false
   },
   "outputs": [
    {
     "data": {
      "text/plain": [
       "[-0.14487136266468792, -0.10763381209676215]"
      ]
     },
     "execution_count": 29,
     "metadata": {},
     "output_type": "execute_result"
    }
   ],
   "source": [
    "list(np.array(p_neg_se) - np.array(np_neg_se))"
   ]
  },
  {
   "cell_type": "markdown",
   "metadata": {},
   "source": [
    "the non primed group has a greater standard error"
   ]
  },
  {
   "cell_type": "code",
   "execution_count": 32,
   "metadata": {
    "collapsed": false
   },
   "outputs": [
    {
     "data": {
      "text/plain": [
       "[0.046818207822656444, -0.075238067648212281]"
      ]
     },
     "execution_count": 32,
     "metadata": {},
     "output_type": "execute_result"
    }
   ],
   "source": [
    "list(np.array(p_no_se) - np.array(np_no_se))"
   ]
  },
  {
   "cell_type": "markdown",
   "metadata": {},
   "source": [
    "### 8 out of 12 the non primed had a higher standard error than the primed group"
   ]
  },
  {
   "cell_type": "code",
   "execution_count": null,
   "metadata": {
    "collapsed": true
   },
   "outputs": [],
   "source": []
  }
 ],
 "metadata": {
  "kernelspec": {
   "display_name": "Python 3",
   "language": "python",
   "name": "python3"
  },
  "language_info": {
   "codemirror_mode": {
    "name": "ipython",
    "version": 3
   },
   "file_extension": ".py",
   "mimetype": "text/x-python",
   "name": "python",
   "nbconvert_exporter": "python",
   "pygments_lexer": "ipython3",
   "version": "3.4.3"
  }
 },
 "nbformat": 4,
 "nbformat_minor": 0
}
