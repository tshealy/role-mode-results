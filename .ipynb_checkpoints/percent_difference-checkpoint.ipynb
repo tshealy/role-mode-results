{
 "cells": [
  {
   "cell_type": "code",
   "execution_count": 1,
   "metadata": {
    "collapsed": true
   },
   "outputs": [],
   "source": [
    "import numpy as np\n",
    "import pandas as pd\n",
    "%matplotlib inline"
   ]
  },
  {
   "cell_type": "code",
   "execution_count": 2,
   "metadata": {
    "collapsed": true
   },
   "outputs": [],
   "source": [
    "primed = pd.read_pickle(\"primed_no_duplicate.pickle\")"
   ]
  },
  {
   "cell_type": "code",
   "execution_count": 3,
   "metadata": {
    "collapsed": true
   },
   "outputs": [],
   "source": [
    "non_primed = pd.read_pickle(\"non_primed_no_duplicate.pickle\")"
   ]
  },
  {
   "cell_type": "code",
   "execution_count": 4,
   "metadata": {
    "collapsed": true
   },
   "outputs": [],
   "source": [
    "loa_list_pos_model = ['QL1_2_loa', 'QL2_3_loa', 'QL3_2_loa', \n",
    "            'QL3_3_loa', 'NW1_2_loa', 'NW2_1_loa', \n",
    "            'NW2_3_loa', 'CR2_2_loa']"
   ]
  },
  {
   "cell_type": "markdown",
   "metadata": {},
   "source": [
    "## Average Percent Difference by Credit with Positive Role Model"
   ]
  },
  {
   "cell_type": "code",
   "execution_count": 18,
   "metadata": {
    "collapsed": false
   },
   "outputs": [
    {
     "name": "stdout",
     "output_type": "stream",
     "text": [
      "credit: QL1_2_loa, Percent Difference: 39.32%,\n",
      "primed_mean:13.07, non_primed_mean: 8.78\n",
      "\n",
      "credit: QL2_3_loa, Percent Difference: 80.88%,\n",
      "primed_mean:8.3, non_primed_mean: 3.52\n",
      "\n",
      "credit: QL3_2_loa, Percent Difference: 38.82%,\n",
      "primed_mean:11.96, non_primed_mean: 8.07\n",
      "\n",
      "credit: QL3_3_loa, Percent Difference: 14.6%,\n",
      "primed_mean:11.7, non_primed_mean: 10.11\n",
      "\n",
      "credit: NW1_2_loa, Percent Difference: 23.43%,\n",
      "primed_mean:12.19, non_primed_mean: 9.63\n",
      "\n",
      "credit: NW2_1_loa, Percent Difference: 20.17%,\n",
      "primed_mean:12.33, non_primed_mean: 10.07\n",
      "\n",
      "credit: NW2_3_loa, Percent Difference: 36.71%,\n",
      "primed_mean:12.78, non_primed_mean: 8.81\n",
      "\n",
      "credit: CR2_2_loa, Percent Difference: 39.19%,\n",
      "primed_mean:13.11, non_primed_mean: 8.81\n",
      "\n"
     ]
    }
   ],
   "source": [
    "total_aver_diff = []\n",
    "for i in loa_list_pos_model:\n",
    "    p = primed[i].mean()\n",
    "    np = non_primed[i].mean()\n",
    "    per_diff = ((p-np)/((p+np)/2)*100).round(2)\n",
    "    total_aver_diff.append(per_diff)\n",
    "    print(\"credit: {}, Percent Difference: {}%,\\nprimed_mean:{}, non_primed_mean: {}\\n\".format(i, per_diff, p.round(2), np.round(2)))"
   ]
  },
  {
   "cell_type": "markdown",
   "metadata": {},
   "source": [
    "## Total Average Difference for positive framed "
   ]
  },
  {
   "cell_type": "code",
   "execution_count": 23,
   "metadata": {
    "collapsed": false
   },
   "outputs": [
    {
     "data": {
      "text/plain": [
       "36.640000000000001"
      ]
     },
     "execution_count": 23,
     "metadata": {},
     "output_type": "execute_result"
    }
   ],
   "source": [
    "from statistics import mean\n",
    "mean(total_aver_diff)"
   ]
  },
  {
   "cell_type": "code",
   "execution_count": null,
   "metadata": {
    "collapsed": true
   },
   "outputs": [],
   "source": []
  }
 ],
 "metadata": {
  "kernelspec": {
   "display_name": "Python 3",
   "language": "python",
   "name": "python3"
  },
  "language_info": {
   "codemirror_mode": {
    "name": "ipython",
    "version": 3
   },
   "file_extension": ".py",
   "mimetype": "text/x-python",
   "name": "python",
   "nbconvert_exporter": "python",
   "pygments_lexer": "ipython3",
   "version": "3.4.3"
  }
 },
 "nbformat": 4,
 "nbformat_minor": 0
}
