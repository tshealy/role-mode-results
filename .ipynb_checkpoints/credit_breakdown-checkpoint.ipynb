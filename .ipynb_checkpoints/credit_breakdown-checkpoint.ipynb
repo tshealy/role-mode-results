{
 "cells": [
  {
   "cell_type": "code",
   "execution_count": 1,
   "metadata": {
    "collapsed": true
   },
   "outputs": [],
   "source": [
    "import pandas as pd\n",
    "import numpy as np\n",
    "import seaborn\n",
    "import matplotlib.pyplot as plt\n",
    "%matplotlib inline"
   ]
  },
  {
   "cell_type": "code",
   "execution_count": 2,
   "metadata": {
    "collapsed": true
   },
   "outputs": [],
   "source": [
    "from scipy.stats import mannwhitneyu"
   ]
  },
  {
   "cell_type": "code",
   "execution_count": 45,
   "metadata": {
    "collapsed": true
   },
   "outputs": [],
   "source": [
    "from scipy.stats import ttest_ind"
   ]
  },
  {
   "cell_type": "markdown",
   "metadata": {},
   "source": [
    "Removing the duplicate entries (two extra Andrea and one extra Dan)"
   ]
  },
  {
   "cell_type": "code",
   "execution_count": 3,
   "metadata": {
    "collapsed": true
   },
   "outputs": [],
   "source": [
    "non_primed = pd.read_pickle(\"non_primed.pickle\")"
   ]
  },
  {
   "cell_type": "code",
   "execution_count": 4,
   "metadata": {
    "collapsed": false
   },
   "outputs": [],
   "source": [
    "non_primed = non_primed[non_primed.rating_id != 39]"
   ]
  },
  {
   "cell_type": "code",
   "execution_count": 5,
   "metadata": {
    "collapsed": false
   },
   "outputs": [
    {
     "data": {
      "text/plain": [
       "27"
      ]
     },
     "execution_count": 5,
     "metadata": {},
     "output_type": "execute_result"
    }
   ],
   "source": [
    "len(non_primed)"
   ]
  },
  {
   "cell_type": "code",
   "execution_count": 36,
   "metadata": {
    "collapsed": false
   },
   "outputs": [],
   "source": [
    "primed = pd.read_pickle(\"primed.pickle\")"
   ]
  },
  {
   "cell_type": "code",
   "execution_count": 37,
   "metadata": {
    "collapsed": false
   },
   "outputs": [],
   "source": [
    "primed = primed[(primed.rating_id != 27) & (primed.rating_id != 19) & (primed.rating_id != 21)]"
   ]
  },
  {
   "cell_type": "code",
   "execution_count": 8,
   "metadata": {
    "collapsed": false
   },
   "outputs": [
    {
     "data": {
      "text/plain": [
       "27"
      ]
     },
     "execution_count": 8,
     "metadata": {},
     "output_type": "execute_result"
    }
   ],
   "source": [
    "len(primed)"
   ]
  },
  {
   "cell_type": "markdown",
   "metadata": {},
   "source": [
    "27 participants in each group"
   ]
  },
  {
   "cell_type": "markdown",
   "metadata": {},
   "source": [
    "#Mann Whitney U Test"
   ]
  },
  {
   "cell_type": "code",
   "execution_count": 9,
   "metadata": {
    "collapsed": true
   },
   "outputs": [],
   "source": [
    "loa = ['QL1_2_loa', 'QL1_3_loa', 'QL2_3_loa', 'QL3_2_loa', 'QL3_3_loa', 'NW1_2_loa', 'NW1_5_loa', 'NW2_1_loa', 'NW2_3_loa', 'NW3_4_loa', 'CR1_1_loa', 'CR2_2_loa']"
   ]
  },
  {
   "cell_type": "code",
   "execution_count": 10,
   "metadata": {
    "collapsed": false
   },
   "outputs": [
    {
     "name": "stdout",
     "output_type": "stream",
     "text": [
      "QL1_2_loa: MannwhitneyuResult(statistic=220.5, pvalue=0.0038081766341342763)\n",
      "QL1_3_loa: MannwhitneyuResult(statistic=267.5, pvalue=0.044105699690735869)\n",
      "QL2_3_loa: MannwhitneyuResult(statistic=156.0, pvalue=9.4114063258543464e-05)\n",
      "QL3_2_loa: MannwhitneyuResult(statistic=199.5, pvalue=0.0011150792986299668)\n",
      "QL3_3_loa: MannwhitneyuResult(statistic=275.0, pvalue=0.025448806780823771)\n",
      "NW1_2_loa: MannwhitneyuResult(statistic=281.5, pvalue=0.063954265000706598)\n",
      "NW1_5_loa: MannwhitneyuResult(statistic=346.0, pvalue=0.37033854873336675)\n",
      "NW2_1_loa: MannwhitneyuResult(statistic=302.5, pvalue=0.13797210272506444)\n",
      "NW2_3_loa: MannwhitneyuResult(statistic=225.0, pvalue=0.0068006408332967902)\n",
      "NW3_4_loa: MannwhitneyuResult(statistic=271.0, pvalue=0.049304934731543085)\n",
      "CR1_1_loa: MannwhitneyuResult(statistic=289.0, pvalue=0.08717144703456331)\n",
      "CR2_2_loa: MannwhitneyuResult(statistic=245.0, pvalue=0.01749516588309984)\n"
     ]
    }
   ],
   "source": [
    "for i in loa:\n",
    "    mann = mannwhitneyu(non_primed[i], primed[i])\n",
    "    print(\"{}: {}\".format(i, mann))"
   ]
  },
  {
   "cell_type": "markdown",
   "metadata": {},
   "source": [
    "#Mean and Median"
   ]
  },
  {
   "cell_type": "markdown",
   "metadata": {},
   "source": [
    "Non-primed"
   ]
  },
  {
   "cell_type": "code",
   "execution_count": 25,
   "metadata": {
    "collapsed": false
   },
   "outputs": [
    {
     "name": "stdout",
     "output_type": "stream",
     "text": [
      "QL1_2_loa: sum:237, mean:8.777777777777779, median:13.0\n",
      "QL1_3_loa: sum:139, mean:5.148148148148148, median:2.0\n",
      "QL2_3_loa: sum:95, mean:3.5185185185185186, median:2.0\n",
      "QL3_2_loa: sum:218, mean:8.074074074074074, median:11.0\n",
      "QL3_3_loa: sum:273, mean:10.11111111111111, median:13.0\n",
      "NW1_2_loa: sum:260, mean:9.62962962962963, median:9.0\n",
      "NW1_5_loa: sum:129, mean:4.777777777777778, median:2.0\n",
      "NW2_1_loa: sum:272, mean:10.074074074074074, median:9.0\n",
      "NW2_3_loa: sum:238, mean:8.814814814814815, median:9.0\n",
      "NW3_4_loa: sum:249, mean:9.222222222222221, median:9.0\n",
      "CR1_1_loa: sum:240, mean:8.88888888888889, median:4.0\n",
      "CR2_2_loa: sum:238, mean:8.814814814814815, median:6.0\n"
     ]
    }
   ],
   "source": [
    "for i in loa:\n",
    "    sum_mean_median = [non_primed[i].sum(), non_primed[i].mean(), non_primed[i].median()]\n",
    "    print(\"{}: sum:{}, mean:{}, median:{}\".format(i, sum_mean_median[0], sum_mean_median[1], sum_mean_median[2]))"
   ]
  },
  {
   "cell_type": "markdown",
   "metadata": {},
   "source": [
    "Primed"
   ]
  },
  {
   "cell_type": "code",
   "execution_count": 29,
   "metadata": {
    "collapsed": false
   },
   "outputs": [
    {
     "name": "stdout",
     "output_type": "stream",
     "text": [
      "QL1_2_loa: sum:353, mean:13.074074074074074, median:16.0\n",
      "QL1_3_loa: sum:87, mean:3.2222222222222223, median:1.0\n",
      "QL2_3_loa: sum:224, mean:8.296296296296296, median:11.0\n",
      "QL3_2_loa: sum:323, mean:11.962962962962964, median:14.0\n",
      "QL3_3_loa: sum:316, mean:11.703703703703704, median:13.0\n",
      "NW1_2_loa: sum:329, mean:12.185185185185185, median:18.0\n",
      "NW1_5_loa: sum:112, mean:4.148148148148148, median:2.0\n",
      "NW2_1_loa: sum:333, mean:12.333333333333334, median:17.0\n",
      "NW2_3_loa: sum:345, mean:12.777777777777779, median:18.0\n",
      "NW3_4_loa: sum:172, mean:6.37037037037037, median:6.0\n",
      "CR1_1_loa: sum:182, mean:6.7407407407407405, median:0.0\n",
      "CR2_2_loa: sum:354, mean:13.11111111111111, median:20.0\n"
     ]
    }
   ],
   "source": [
    "for i in loa:\n",
    "    sum_mean_median = [primed[i].sum(), primed[i].mean(), primed[i].median()]\n",
    "    print(\"{}: sum:{}, mean:{}, median:{}\".format(i, sum_mean_median[0], sum_mean_median[1], sum_mean_median[2]))"
   ]
  },
  {
   "cell_type": "markdown",
   "metadata": {},
   "source": [
    "#Totals for High Score"
   ]
  },
  {
   "cell_type": "code",
   "execution_count": 38,
   "metadata": {
    "collapsed": true
   },
   "outputs": [],
   "source": [
    "primed['total_high_score'] = (primed.QL1_2_loa + primed.QL2_3_loa + primed.QL3_2_loa + primed.QL3_3_loa + primed.NW1_2_loa + primed.NW2_1_loa + primed.NW2_3_loa + primed.CR2_2_loa)"
   ]
  },
  {
   "cell_type": "code",
   "execution_count": 44,
   "metadata": {
    "collapsed": false
   },
   "outputs": [
    {
     "name": "stdout",
     "output_type": "stream",
     "text": [
      "sum:2577, mean:95.44, median:101.0\n"
     ]
    }
   ],
   "source": [
    "sum_mean_median = [primed['total_high_score'].sum(), primed['total_high_score'].mean().round(2), primed['total_high_score'].median()]\n",
    "print(\"sum:{}, mean:{}, median:{}\".format(sum_mean_median[0], sum_mean_median[1], sum_mean_median[2]))"
   ]
  },
  {
   "cell_type": "code",
   "execution_count": 39,
   "metadata": {
    "collapsed": false
   },
   "outputs": [],
   "source": [
    "non_primed['total_high_score'] = (non_primed.QL1_2_loa + non_primed.QL2_3_loa + non_primed.QL3_2_loa + non_primed.QL3_3_loa + non_primed.NW1_2_loa + non_primed.NW2_1_loa + non_primed.NW2_3_loa + non_primed.CR2_2_loa)"
   ]
  },
  {
   "cell_type": "code",
   "execution_count": 43,
   "metadata": {
    "collapsed": false
   },
   "outputs": [
    {
     "name": "stdout",
     "output_type": "stream",
     "text": [
      "sum:1831, mean:67.81, median:66.0\n"
     ]
    }
   ],
   "source": [
    "sum_mean_median = [non_primed['total_high_score'].sum(), non_primed['total_high_score'].mean().round(2), non_primed['total_high_score'].median()]\n",
    "print(\"sum:{}, mean:{}, median:{}\".format(sum_mean_median[0], sum_mean_median[1], sum_mean_median[2]))"
   ]
  },
  {
   "cell_type": "markdown",
   "metadata": {},
   "source": [
    "#T-Test for High Score"
   ]
  },
  {
   "cell_type": "code",
   "execution_count": 46,
   "metadata": {
    "collapsed": false
   },
   "outputs": [
    {
     "data": {
      "text/plain": [
       "Ttest_indResult(statistic=3.3155983783752552, pvalue=0.0016719224386760555)"
      ]
     },
     "execution_count": 46,
     "metadata": {},
     "output_type": "execute_result"
    }
   ],
   "source": [
    "ttest_ind(primed['total_high_score'], non_primed['total_high_score'])"
   ]
  },
  {
   "cell_type": "markdown",
   "metadata": {},
   "source": [
    "#Totals for Low Score"
   ]
  },
  {
   "cell_type": "code",
   "execution_count": 48,
   "metadata": {
    "collapsed": false
   },
   "outputs": [
    {
     "name": "stdout",
     "output_type": "stream",
     "text": [
      "sum:199, mean:7.37, median:5.0\n"
     ]
    }
   ],
   "source": [
    "sum_mean_median = [primed['neg_ex_total'].sum(), primed['neg_ex_total'].mean().round(2), primed['neg_ex_total'].median()]\n",
    "print(\"sum:{}, mean:{}, median:{}\".format(sum_mean_median[0], sum_mean_median[1], sum_mean_median[2]))"
   ]
  },
  {
   "cell_type": "code",
   "execution_count": 50,
   "metadata": {
    "collapsed": false
   },
   "outputs": [
    {
     "name": "stdout",
     "output_type": "stream",
     "text": [
      "sum:268, mean:9.93, median:7.0\n"
     ]
    }
   ],
   "source": [
    "sum_mean_median = [non_primed['neg_ex_total'].sum(), non_primed['neg_ex_total'].mean().round(2), non_primed['neg_ex_total'].median()]\n",
    "print(\"sum:{}, mean:{}, median:{}\".format(sum_mean_median[0], sum_mean_median[1], sum_mean_median[2]))"
   ]
  },
  {
   "cell_type": "markdown",
   "metadata": {},
   "source": [
    "#T-Test for Low Score"
   ]
  },
  {
   "cell_type": "code",
   "execution_count": 51,
   "metadata": {
    "collapsed": false
   },
   "outputs": [
    {
     "data": {
      "text/plain": [
       "Ttest_indResult(statistic=-1.0287319605642049, pvalue=0.30836714341563137)"
      ]
     },
     "execution_count": 51,
     "metadata": {},
     "output_type": "execute_result"
    }
   ],
   "source": [
    "ttest_ind(primed['neg_ex_total'], non_primed['neg_ex_total'])"
   ]
  },
  {
   "cell_type": "markdown",
   "metadata": {},
   "source": [
    "#Totals for No Example Score"
   ]
  },
  {
   "cell_type": "code",
   "execution_count": 56,
   "metadata": {
    "collapsed": false
   },
   "outputs": [
    {
     "name": "stdout",
     "output_type": "stream",
     "text": [
      "sum:489, mean:18.11, median:13.0\n"
     ]
    }
   ],
   "source": [
    "sum_mean_median = [non_primed['no_ex_total'].sum(), non_primed['no_ex_total'].mean().round(2), non_primed['no_ex_total'].median()]\n",
    "print(\"sum:{}, mean:{}, median:{}\".format(sum_mean_median[0], sum_mean_median[1], sum_mean_median[2]))"
   ]
  },
  {
   "cell_type": "code",
   "execution_count": 58,
   "metadata": {
    "collapsed": false
   },
   "outputs": [
    {
     "name": "stdout",
     "output_type": "stream",
     "text": [
      "sum:354, mean:13.11, median:9.0\n"
     ]
    }
   ],
   "source": [
    "sum_mean_median = [primed['no_ex_total'].sum(), primed['no_ex_total'].mean().round(2), primed['no_ex_total'].median()]\n",
    "print(\"sum:{}, mean:{}, median:{}\".format(sum_mean_median[0], sum_mean_median[1], sum_mean_median[2]))"
   ]
  },
  {
   "cell_type": "code",
   "execution_count": 59,
   "metadata": {
    "collapsed": false
   },
   "outputs": [
    {
     "data": {
      "text/plain": [
       "Ttest_indResult(statistic=-1.2933712935258355, pvalue=0.20159888459769901)"
      ]
     },
     "execution_count": 59,
     "metadata": {},
     "output_type": "execute_result"
    }
   ],
   "source": [
    "ttest_ind(primed['no_ex_total'], non_primed['no_ex_total'])"
   ]
  }
 ],
 "metadata": {
  "kernelspec": {
   "display_name": "Python 3",
   "language": "python",
   "name": "python3"
  },
  "language_info": {
   "codemirror_mode": {
    "name": "ipython",
    "version": 3
   },
   "file_extension": ".py",
   "mimetype": "text/x-python",
   "name": "python",
   "nbconvert_exporter": "python",
   "pygments_lexer": "ipython3",
   "version": "3.4.3"
  }
 },
 "nbformat": 4,
 "nbformat_minor": 0
}
