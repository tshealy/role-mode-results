{
 "cells": [
  {
   "cell_type": "code",
   "execution_count": 34,
   "metadata": {
    "collapsed": true
   },
   "outputs": [],
   "source": [
    "import numpy as np\n",
    "import pandas as pd\n",
    "%matplotlib inline"
   ]
  },
  {
   "cell_type": "code",
   "execution_count": 43,
   "metadata": {
    "collapsed": false
   },
   "outputs": [],
   "source": [
    "standard = pd.read_csv(\"../../envision_defaults/industry_data/standard_credits.csv\", skiprows=1)"
   ]
  },
  {
   "cell_type": "code",
   "execution_count": 40,
   "metadata": {
    "collapsed": true
   },
   "outputs": [],
   "source": [
    "conserving = pd.read_csv(\"../../envision_defaults/industry_data/conserving_credits.csv\", skiprows=1)"
   ]
  },
  {
   "cell_type": "code",
   "execution_count": 44,
   "metadata": {
    "collapsed": false
   },
   "outputs": [],
   "source": [
    "standard = standard.iloc[:,1:-18].dropna()"
   ]
  },
  {
   "cell_type": "code",
   "execution_count": 41,
   "metadata": {
    "collapsed": false
   },
   "outputs": [],
   "source": [
    "conserving = conserving.iloc[:,1:-18].dropna()"
   ]
  },
  {
   "cell_type": "code",
   "execution_count": 48,
   "metadata": {
    "collapsed": false
   },
   "outputs": [],
   "source": [
    "credit_list = standard.columns[1:]"
   ]
  },
  {
   "cell_type": "code",
   "execution_count": 51,
   "metadata": {
    "collapsed": false
   },
   "outputs": [
    {
     "name": "stdout",
     "output_type": "stream",
     "text": [
      "credit: QL1.1, Percent Difference: -3.08%,\n",
      "conserving_mean:18.21, standard_mean: 18.78\n",
      "\n",
      "credit: QL1.2, Percent Difference: 17.2%,\n",
      "conserving_mean:10.88, standard_mean: 9.16\n",
      "\n",
      "credit: QL1.3, Percent Difference: 38.91%,\n",
      "conserving_mean:7.88, standard_mean: 5.31\n",
      "\n",
      "credit: QL2.1, Percent Difference: 58.62%,\n",
      "conserving_mean:10.06, standard_mean: 5.5\n",
      "\n",
      "credit: QL2.2, Percent Difference: 37.8%,\n",
      "conserving_mean:3.85, standard_mean: 2.62\n",
      "\n",
      "credit: QL2.3, Percent Difference: 68.82%,\n",
      "conserving_mean:6.21, standard_mean: 3.03\n",
      "\n",
      "credit: QL2.4, Percent Difference: 30.83%,\n",
      "conserving_mean:10.79, standard_mean: 7.91\n",
      "\n",
      "credit: QL2.5, Percent Difference: 14.61%,\n",
      "conserving_mean:8.21, standard_mean: 7.09\n",
      "\n",
      "credit: QL2.6, Percent Difference: 48.0%,\n",
      "conserving_mean:9.64, standard_mean: 5.91\n",
      "\n",
      "credit: QL3.1, Percent Difference: 42.2%,\n",
      "conserving_mean:8.39, standard_mean: 5.47\n",
      "\n",
      "credit: QL3.2, Percent Difference: 33.04%,\n",
      "conserving_mean:8.64, standard_mean: 6.19\n",
      "\n",
      "credit: QL3.3, Percent Difference: 15.93%,\n",
      "conserving_mean:9.79, standard_mean: 8.34\n",
      "\n"
     ]
    }
   ],
   "source": [
    "total_aver_diff = []\n",
    "for i in credit_list:\n",
    "    c = conserving[i].mean()\n",
    "    s = standard[i].mean()\n",
    "    per_diff = ((c-s)/((c+s)/2)*100).round(2)\n",
    "    total_aver_diff.append(abs(per_diff))\n",
    "    print(\"credit: {}, Percent Difference: {}%,\\nconserving_mean:{}, standard_mean: {}\\n\".format(i, per_diff, c.round(2), s.round(2)))"
   ]
  },
  {
   "cell_type": "markdown",
   "metadata": {},
   "source": [
    "## Total Average Difference"
   ]
  },
  {
   "cell_type": "code",
   "execution_count": 54,
   "metadata": {
    "collapsed": false
   },
   "outputs": [
    {
     "data": {
      "text/plain": [
       "34.090000000000003"
      ]
     },
     "execution_count": 54,
     "metadata": {},
     "output_type": "execute_result"
    }
   ],
   "source": [
    "np.mean(total_aver_diff)"
   ]
  },
  {
   "cell_type": "code",
   "execution_count": null,
   "metadata": {
    "collapsed": true
   },
   "outputs": [],
   "source": []
  }
 ],
 "metadata": {
  "kernelspec": {
   "display_name": "Python 3",
   "language": "python",
   "name": "python3"
  },
  "language_info": {
   "codemirror_mode": {
    "name": "ipython",
    "version": 3
   },
   "file_extension": ".py",
   "mimetype": "text/x-python",
   "name": "python",
   "nbconvert_exporter": "python",
   "pygments_lexer": "ipython3",
   "version": "3.4.3"
  }
 },
 "nbformat": 4,
 "nbformat_minor": 0
}
